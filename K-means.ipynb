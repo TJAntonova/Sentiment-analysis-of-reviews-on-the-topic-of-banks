{
 "cells": [
  {
   "cell_type": "markdown",
   "id": "7f149452",
   "metadata": {},
   "source": [
    "### Импорт библиотек"
   ]
  },
  {
   "cell_type": "code",
   "execution_count": 1,
   "id": "4af67948",
   "metadata": {},
   "outputs": [],
   "source": [
    "import pandas as pd\n",
    "import re\n",
    "from sklearn.feature_extraction.text import TfidfVectorizer\n",
    "from sklearn.cluster import KMeans"
   ]
  },
  {
   "cell_type": "markdown",
   "id": "b554399e",
   "metadata": {},
   "source": [
    "### Чтение файла"
   ]
  },
  {
   "cell_type": "code",
   "execution_count": 2,
   "id": "d41301ff",
   "metadata": {},
   "outputs": [],
   "source": [
    "df = pd.read_csv('corp_lemm.csv')\n",
    "df = df[df['text'].notnull()]\n",
    "df = df.drop(['Unnamed: 0'], axis = 1)"
   ]
  },
  {
   "cell_type": "markdown",
   "id": "3128fffc",
   "metadata": {},
   "source": [
    "### Анализ тональности"
   ]
  },
  {
   "cell_type": "code",
   "execution_count": 3,
   "id": "43cdac49",
   "metadata": {},
   "outputs": [
    {
     "data": {
      "text/plain": [
       "0    2120\n",
       "1    1996\n",
       "Name: label, dtype: int64"
      ]
     },
     "execution_count": 3,
     "metadata": {},
     "output_type": "execute_result"
    }
   ],
   "source": [
    "sentiment_mapping = {'bad': 1, 'neutral': 1, 'good': 0}\n",
    "df['label'] = df['coloring'].map(sentiment_mapping)\n",
    "df['label'].value_counts()"
   ]
  },
  {
   "cell_type": "code",
   "execution_count": 4,
   "id": "0d7e9c31",
   "metadata": {},
   "outputs": [
    {
     "name": "stdout",
     "output_type": "stream",
     "text": [
      "(3292, 9)\n",
      "(824, 9)\n",
      "0.4787363304981774\n",
      "0.5097087378640777\n"
     ]
    }
   ],
   "source": [
    "from sklearn.model_selection import train_test_split\n",
    "train, test = train_test_split(df,\n",
    "                        test_size = 0.2,\n",
    "                        random_state = 12348,\n",
    "                       )\n",
    "\n",
    "print(train.shape)\n",
    "print(test.shape)\n",
    "for sample in [train, test]:    \n",
    "    print(sample[sample['label'] == 1].shape[0] / sample.shape[0])"
   ]
  },
  {
   "cell_type": "code",
   "execution_count": 5,
   "id": "9a45a55a",
   "metadata": {},
   "outputs": [],
   "source": [
    "def preprocessing(line):\n",
    "    line = line.lower()\n",
    "    line = re.sub(r'[^А-яЁё]+', ' ', line)\n",
    "    return line"
   ]
  },
  {
   "cell_type": "code",
   "execution_count": 6,
   "id": "46f4e8c2",
   "metadata": {},
   "outputs": [],
   "source": [
    "tfidf = TfidfVectorizer(preprocessor=preprocessing)\n",
    "tfidf_train = tfidf.fit_transform(train['text'])\n",
    "tfidf_test = tfidf.transform(test['text'])\n",
    "kmeans = KMeans(n_clusters=2).fit(tfidf_train)\n"
   ]
  },
  {
   "cell_type": "code",
   "execution_count": 7,
   "id": "f6f2ad91",
   "metadata": {},
   "outputs": [],
   "source": [
    "k_means = kmeans.predict(tfidf_test).tolist()\n"
   ]
  },
  {
   "cell_type": "code",
   "execution_count": 8,
   "id": "5176e985",
   "metadata": {},
   "outputs": [
    {
     "name": "stderr",
     "output_type": "stream",
     "text": [
      "<ipython-input-8-ba3aa184d0b4>:1: SettingWithCopyWarning: \n",
      "A value is trying to be set on a copy of a slice from a DataFrame.\n",
      "Try using .loc[row_indexer,col_indexer] = value instead\n",
      "\n",
      "See the caveats in the documentation: https://pandas.pydata.org/pandas-docs/stable/user_guide/indexing.html#returning-a-view-versus-a-copy\n",
      "  test['predictions'] = k_means\n"
     ]
    }
   ],
   "source": [
    "test['predictions'] = k_means"
   ]
  },
  {
   "cell_type": "code",
   "execution_count": 9,
   "id": "ee8f0971",
   "metadata": {},
   "outputs": [
    {
     "data": {
      "text/html": [
       "<div>\n",
       "<style scoped>\n",
       "    .dataframe tbody tr th:only-of-type {\n",
       "        vertical-align: middle;\n",
       "    }\n",
       "\n",
       "    .dataframe tbody tr th {\n",
       "        vertical-align: top;\n",
       "    }\n",
       "\n",
       "    .dataframe thead th {\n",
       "        text-align: right;\n",
       "    }\n",
       "</style>\n",
       "<table border=\"1\" class=\"dataframe\">\n",
       "  <thead>\n",
       "    <tr style=\"text-align: right;\">\n",
       "      <th></th>\n",
       "      <th>text</th>\n",
       "      <th>rated</th>\n",
       "      <th>coloring</th>\n",
       "      <th>date</th>\n",
       "      <th>name</th>\n",
       "      <th>bank</th>\n",
       "      <th>sex</th>\n",
       "      <th>text_lemmatized</th>\n",
       "      <th>label</th>\n",
       "      <th>predictions</th>\n",
       "    </tr>\n",
       "  </thead>\n",
       "  <tbody>\n",
       "    <tr>\n",
       "      <th>2303</th>\n",
       "      <td>Обратился По вопросу обслуживания карты,сотруд...</td>\n",
       "      <td>4</td>\n",
       "      <td>good</td>\n",
       "      <td>14 февр, 2022</td>\n",
       "      <td>Юшко Андрей Сергеевич</td>\n",
       "      <td>sovkombank</td>\n",
       "      <td>unkn</td>\n",
       "      <td>обратиться по вопрос обслуживание карта сотруд...</td>\n",
       "      <td>0</td>\n",
       "      <td>0</td>\n",
       "    </tr>\n",
       "    <tr>\n",
       "      <th>1184</th>\n",
       "      <td>мая была подана заявка в банк для утверждения ...</td>\n",
       "      <td>2</td>\n",
       "      <td>bad</td>\n",
       "      <td>21 мая, 2019</td>\n",
       "      <td>Аноним</td>\n",
       "      <td>rossija</td>\n",
       "      <td>unkn</td>\n",
       "      <td>май подать заявка банк утверждение сумма котор...</td>\n",
       "      <td>1</td>\n",
       "      <td>1</td>\n",
       "    </tr>\n",
       "    <tr>\n",
       "      <th>1100</th>\n",
       "      <td>ноября в 14. 10 села в ожидании очереди в касс...</td>\n",
       "      <td>2</td>\n",
       "      <td>bad</td>\n",
       "      <td>26 нояб, 2019</td>\n",
       "      <td>Аноним</td>\n",
       "      <td>primore</td>\n",
       "      <td>unkn</td>\n",
       "      <td>ноябрь   село ожидание очередь касса банк прим...</td>\n",
       "      <td>1</td>\n",
       "      <td>1</td>\n",
       "    </tr>\n",
       "    <tr>\n",
       "      <th>2317</th>\n",
       "      <td>Хотела закрыть карту,но уговорили оставить. До...</td>\n",
       "      <td>4</td>\n",
       "      <td>good</td>\n",
       "      <td>13 февр, 2022</td>\n",
       "      <td>Линара</td>\n",
       "      <td>sovkombank</td>\n",
       "      <td>unkn</td>\n",
       "      <td>хотеть закрыть карта уговорить оставить  до се...</td>\n",
       "      <td>0</td>\n",
       "      <td>0</td>\n",
       "    </tr>\n",
       "    <tr>\n",
       "      <th>2397</th>\n",
       "      <td>Оформляла продажу квартиры и нужна была банков...</td>\n",
       "      <td>4</td>\n",
       "      <td>good</td>\n",
       "      <td>28 мая, 2021</td>\n",
       "      <td>Марина Агоповна</td>\n",
       "      <td>ehnergomashbank</td>\n",
       "      <td>unkn</td>\n",
       "      <td>оформлять продажа квартира нужный банковский я...</td>\n",
       "      <td>0</td>\n",
       "      <td>0</td>\n",
       "    </tr>\n",
       "  </tbody>\n",
       "</table>\n",
       "</div>"
      ],
      "text/plain": [
       "                                                   text  rated coloring  \\\n",
       "2303  Обратился По вопросу обслуживания карты,сотруд...      4     good   \n",
       "1184  мая была подана заявка в банк для утверждения ...      2      bad   \n",
       "1100  ноября в 14. 10 села в ожидании очереди в касс...      2      bad   \n",
       "2317  Хотела закрыть карту,но уговорили оставить. До...      4     good   \n",
       "2397  Оформляла продажу квартиры и нужна была банков...      4     good   \n",
       "\n",
       "               date                   name             bank   sex  \\\n",
       "2303  14 февр, 2022  Юшко Андрей Сергеевич       sovkombank  unkn   \n",
       "1184   21 мая, 2019                 Аноним          rossija  unkn   \n",
       "1100  26 нояб, 2019                 Аноним          primore  unkn   \n",
       "2317  13 февр, 2022                 Линара       sovkombank  unkn   \n",
       "2397   28 мая, 2021        Марина Агоповна  ehnergomashbank  unkn   \n",
       "\n",
       "                                        text_lemmatized  label  predictions  \n",
       "2303  обратиться по вопрос обслуживание карта сотруд...      0            0  \n",
       "1184  май подать заявка банк утверждение сумма котор...      1            1  \n",
       "1100  ноябрь   село ожидание очередь касса банк прим...      1            1  \n",
       "2317  хотеть закрыть карта уговорить оставить  до се...      0            0  \n",
       "2397  оформлять продажа квартира нужный банковский я...      0            0  "
      ]
     },
     "execution_count": 9,
     "metadata": {},
     "output_type": "execute_result"
    }
   ],
   "source": [
    "test.head(5)"
   ]
  },
  {
   "cell_type": "code",
   "execution_count": 10,
   "id": "3478aa4d",
   "metadata": {},
   "outputs": [],
   "source": [
    "pd.options.display.max_colwidth = 10000"
   ]
  },
  {
   "cell_type": "code",
   "execution_count": 11,
   "id": "23e70368",
   "metadata": {},
   "outputs": [],
   "source": [
    "cl0 = test.query('predictions == 0')\n",
    "cl1 = test.query('predictions == 1')\n"
   ]
  },
  {
   "cell_type": "code",
   "execution_count": 12,
   "id": "4219dc00",
   "metadata": {},
   "outputs": [
    {
     "data": {
      "text/plain": [
       "5    224\n",
       "4     94\n",
       "1     17\n",
       "3     14\n",
       "2     11\n",
       "Name: rated, dtype: int64"
      ]
     },
     "execution_count": 12,
     "metadata": {},
     "output_type": "execute_result"
    }
   ],
   "source": [
    "cl0['rated'].value_counts()"
   ]
  },
  {
   "cell_type": "code",
   "execution_count": 13,
   "id": "58a9ad3d",
   "metadata": {},
   "outputs": [
    {
     "data": {
      "text/plain": [
       "2    133\n",
       "3    125\n",
       "1    120\n",
       "4     62\n",
       "5     24\n",
       "Name: rated, dtype: int64"
      ]
     },
     "execution_count": 13,
     "metadata": {},
     "output_type": "execute_result"
    }
   ],
   "source": [
    "cl1['rated'].value_counts()"
   ]
  },
  {
   "cell_type": "markdown",
   "id": "653b968d",
   "metadata": {},
   "source": [
    "Понятно, что класс 0 – это положительные отзывы, остальные - отрицательные."
   ]
  },
  {
   "cell_type": "markdown",
   "id": "af65f390",
   "metadata": {},
   "source": [
    "### Оценка работы алгоритма"
   ]
  },
  {
   "cell_type": "code",
   "execution_count": 14,
   "id": "3abd77f6",
   "metadata": {},
   "outputs": [],
   "source": [
    "pred = []\n",
    "true = []\n",
    "for i in test['predictions']:\n",
    "    pred.append(i)\n",
    "for i in test['label']:\n",
    "    true.append(i)"
   ]
  },
  {
   "cell_type": "code",
   "execution_count": 15,
   "id": "6a528166",
   "metadata": {},
   "outputs": [],
   "source": [
    "tp = 0 \n",
    "tn = 0 \n",
    "fp = 0 \n",
    "fn = 0\n",
    "t_f = []\n",
    "for i in range(0, len(pred)):\n",
    "    if pred[i] == true[i]:\n",
    "        if pred[i] == 1:\n",
    "            tp+=1\n",
    "            t_f.append('tp')\n",
    "        else:\n",
    "            tn+=1\n",
    "            t_f.append('tn')\n",
    "    elif pred[i] != true[i]:\n",
    "        if pred[i] == 0:\n",
    "            fp+=1\n",
    "            t_f.append('fp')\n",
    "        else:\n",
    "            fn+=1\n",
    "            t_f.append('fn')\n",
    "        "
   ]
  },
  {
   "cell_type": "code",
   "execution_count": 16,
   "id": "eb67a314",
   "metadata": {},
   "outputs": [
    {
     "name": "stdout",
     "output_type": "stream",
     "text": [
      " tp - 378 \n",
      " tn - 318 \n",
      " fp - 42 \n",
      " fn- 86\n"
     ]
    }
   ],
   "source": [
    "print(' tp -', tp, '\\n', 'tn -', tn, '\\n', 'fp -', fp, '\\n', 'fn-', fn)"
   ]
  },
  {
   "cell_type": "code",
   "execution_count": 17,
   "id": "b10a42b5",
   "metadata": {},
   "outputs": [],
   "source": [
    "accuracy = (tp+tn)/len(test)\n",
    "precision = tp/ (tp+fp)\n",
    "recall = tp/(tp+fn)\n",
    "f1 = 2/(1/precision+1/recall)\n",
    "f_measure = 2*((precision*recall)/(precision+recall))"
   ]
  },
  {
   "cell_type": "code",
   "execution_count": 18,
   "id": "31e987bc",
   "metadata": {},
   "outputs": [
    {
     "name": "stdout",
     "output_type": "stream",
     "text": [
      "accuracy 0.8446601941747572\n",
      "precision 0.9\n",
      "recall 0.8146551724137931\n",
      "f1-score 0.8552036199095022\n",
      "f-measure 0.8552036199095023\n"
     ]
    }
   ],
   "source": [
    "print('accuracy', accuracy)\n",
    "print('precision', precision)\n",
    "print('recall', recall)\n",
    "print('f1-score', f1)\n",
    "print('f-measure', f_measure)"
   ]
  },
  {
   "cell_type": "markdown",
   "id": "82092bff",
   "metadata": {},
   "source": [
    "### Общие выводы"
   ]
  },
  {
   "cell_type": "markdown",
   "id": "800694b9",
   "metadata": {},
   "source": [
    "Значение F-меры на 0,05 ниже, чем у Байесовского классификатора модели машинного обучения с учителем и на 0,08 ниже, чем у алгоритма, основанного на правилах и словарях, при этом обе метрики – полноты и точности оказались ниже.\n"
   ]
  }
 ],
 "metadata": {
  "kernelspec": {
   "display_name": "Python 3",
   "language": "python",
   "name": "python3"
  },
  "language_info": {
   "codemirror_mode": {
    "name": "ipython",
    "version": 3
   },
   "file_extension": ".py",
   "mimetype": "text/x-python",
   "name": "python",
   "nbconvert_exporter": "python",
   "pygments_lexer": "ipython3",
   "version": "3.8.8"
  }
 },
 "nbformat": 4,
 "nbformat_minor": 5
}
