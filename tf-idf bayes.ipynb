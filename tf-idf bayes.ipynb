{
 "cells": [
  {
   "cell_type": "markdown",
   "id": "f11a8b21",
   "metadata": {},
   "source": [
    "### Импорт библиотек"
   ]
  },
  {
   "cell_type": "code",
   "execution_count": 1,
   "id": "993bd339",
   "metadata": {},
   "outputs": [],
   "source": [
    "import pandas as pd\n",
    "import numpy as np"
   ]
  },
  {
   "cell_type": "code",
   "execution_count": 2,
   "id": "f8d588b9",
   "metadata": {},
   "outputs": [],
   "source": [
    "from sklearn.model_selection import GridSearchCV\n",
    "from sklearn.naive_bayes import MultinomialNB"
   ]
  },
  {
   "cell_type": "code",
   "execution_count": 3,
   "id": "82079194",
   "metadata": {},
   "outputs": [],
   "source": [
    "from sklearn.feature_extraction.text import TfidfVectorizer\n",
    "from sklearn.model_selection import cross_validate\n",
    "from sklearn.model_selection import train_test_split\n"
   ]
  },
  {
   "cell_type": "markdown",
   "id": "b66ad4af",
   "metadata": {},
   "source": [
    "### Чтение файла"
   ]
  },
  {
   "cell_type": "code",
   "execution_count": 4,
   "id": "1ca812ed",
   "metadata": {},
   "outputs": [],
   "source": [
    "df = pd.read_csv('corp_lemm.csv')\n",
    "df = df[df['text'].notnull()]\n",
    "df = df.drop(['Unnamed: 0'], axis = 1)"
   ]
  },
  {
   "cell_type": "code",
   "execution_count": 5,
   "id": "684a248e",
   "metadata": {},
   "outputs": [
    {
     "data": {
      "text/html": [
       "<div>\n",
       "<style scoped>\n",
       "    .dataframe tbody tr th:only-of-type {\n",
       "        vertical-align: middle;\n",
       "    }\n",
       "\n",
       "    .dataframe tbody tr th {\n",
       "        vertical-align: top;\n",
       "    }\n",
       "\n",
       "    .dataframe thead th {\n",
       "        text-align: right;\n",
       "    }\n",
       "</style>\n",
       "<table border=\"1\" class=\"dataframe\">\n",
       "  <thead>\n",
       "    <tr style=\"text-align: right;\">\n",
       "      <th></th>\n",
       "      <th>text</th>\n",
       "      <th>rated</th>\n",
       "      <th>coloring</th>\n",
       "      <th>date</th>\n",
       "      <th>name</th>\n",
       "      <th>bank</th>\n",
       "      <th>sex</th>\n",
       "      <th>text_lemmatized</th>\n",
       "    </tr>\n",
       "  </thead>\n",
       "  <tbody>\n",
       "    <tr>\n",
       "      <th>0</th>\n",
       "      <td>Возмутительный способ обмана придумали крючкот...</td>\n",
       "      <td>1</td>\n",
       "      <td>bad</td>\n",
       "      <td>04 апр, 2022</td>\n",
       "      <td>Сергей</td>\n",
       "      <td>vtb</td>\n",
       "      <td>male</td>\n",
       "      <td>возмутительный способ обман придумать крючкотв...</td>\n",
       "    </tr>\n",
       "    <tr>\n",
       "      <th>1</th>\n",
       "      <td>Не храните в нем деньги, ни коем случае! У мен...</td>\n",
       "      <td>1</td>\n",
       "      <td>bad</td>\n",
       "      <td>30 мар, 2022</td>\n",
       "      <td>Альбина</td>\n",
       "      <td>uralsib</td>\n",
       "      <td>female</td>\n",
       "      <td>не хранить немой деньга кой случай  у карта сч...</td>\n",
       "    </tr>\n",
       "    <tr>\n",
       "      <th>2</th>\n",
       "      <td>С 09.03.22 не могу получить средства с евро сч...</td>\n",
       "      <td>1</td>\n",
       "      <td>bad</td>\n",
       "      <td>24 мар, 2022</td>\n",
       "      <td>Ирина</td>\n",
       "      <td>uralsib</td>\n",
       "      <td>female</td>\n",
       "      <td>с мочь получить средство евро счёт должный выд...</td>\n",
       "    </tr>\n",
       "    <tr>\n",
       "      <th>3</th>\n",
       "      <td>Очень долгое обслуживание, сотрудники совершен...</td>\n",
       "      <td>1</td>\n",
       "      <td>bad</td>\n",
       "      <td>14 мар, 2022</td>\n",
       "      <td>Александр</td>\n",
       "      <td>gazprombank</td>\n",
       "      <td>male</td>\n",
       "      <td>очень долгий обслуживание сотрудник совершенно...</td>\n",
       "    </tr>\n",
       "    <tr>\n",
       "      <th>4</th>\n",
       "      <td>Звоню третий день по вопросу валюты. Оператор ...</td>\n",
       "      <td>1</td>\n",
       "      <td>bad</td>\n",
       "      <td>14 мар, 2022</td>\n",
       "      <td>Сергей Владимирович</td>\n",
       "      <td>gazprombank</td>\n",
       "      <td>unkn</td>\n",
       "      <td>звонить третий день вопрос валюта  оператор го...</td>\n",
       "    </tr>\n",
       "  </tbody>\n",
       "</table>\n",
       "</div>"
      ],
      "text/plain": [
       "                                                text  rated coloring  \\\n",
       "0  Возмутительный способ обмана придумали крючкот...      1      bad   \n",
       "1  Не храните в нем деньги, ни коем случае! У мен...      1      bad   \n",
       "2  С 09.03.22 не могу получить средства с евро сч...      1      bad   \n",
       "3  Очень долгое обслуживание, сотрудники совершен...      1      bad   \n",
       "4  Звоню третий день по вопросу валюты. Оператор ...      1      bad   \n",
       "\n",
       "           date                 name         bank     sex  \\\n",
       "0  04 апр, 2022               Сергей          vtb    male   \n",
       "1  30 мар, 2022              Альбина      uralsib  female   \n",
       "2  24 мар, 2022                Ирина      uralsib  female   \n",
       "3  14 мар, 2022            Александр  gazprombank    male   \n",
       "4  14 мар, 2022  Сергей Владимирович  gazprombank    unkn   \n",
       "\n",
       "                                     text_lemmatized  \n",
       "0  возмутительный способ обман придумать крючкотв...  \n",
       "1  не хранить немой деньга кой случай  у карта сч...  \n",
       "2  с мочь получить средство евро счёт должный выд...  \n",
       "3  очень долгий обслуживание сотрудник совершенно...  \n",
       "4  звонить третий день вопрос валюта  оператор го...  "
      ]
     },
     "execution_count": 5,
     "metadata": {},
     "output_type": "execute_result"
    }
   ],
   "source": [
    "df.head(5)"
   ]
  },
  {
   "cell_type": "markdown",
   "id": "5dbfe97a",
   "metadata": {},
   "source": [
    "### Анализ тональности"
   ]
  },
  {
   "cell_type": "code",
   "execution_count": 6,
   "id": "24d4b850",
   "metadata": {},
   "outputs": [
    {
     "data": {
      "text/plain": [
       "1    2120\n",
       "0    1996\n",
       "Name: label, dtype: int64"
      ]
     },
     "execution_count": 6,
     "metadata": {},
     "output_type": "execute_result"
    }
   ],
   "source": [
    "#присвоение целевого признака\n",
    "sentiment_mapping = {'bad': 0, 'neutral': 0, 'good': 1}\n",
    "df['label'] = df['coloring'].map(sentiment_mapping)\n",
    "df['label'].value_counts()"
   ]
  },
  {
   "cell_type": "code",
   "execution_count": 7,
   "id": "09d2871b",
   "metadata": {},
   "outputs": [
    {
     "name": "stdout",
     "output_type": "stream",
     "text": [
      "(3292, 9)\n",
      "(824, 9)\n"
     ]
    }
   ],
   "source": [
    "#разбиение на обучающую и тестовую выборки\n",
    "train, test = train_test_split(df,\n",
    "                        test_size = 0.2,\n",
    "                        random_state = 12348,\n",
    "                       )\n",
    "\n",
    "print(train.shape)\n",
    "print(test.shape)"
   ]
  },
  {
   "cell_type": "code",
   "execution_count": 8,
   "id": "315e443b",
   "metadata": {},
   "outputs": [
    {
     "name": "stdout",
     "output_type": "stream",
     "text": [
      "0.5212636695018226\n",
      "0.49029126213592233\n"
     ]
    }
   ],
   "source": [
    "#распределение целевого признака\n",
    "for sample in [train, test]:    \n",
    "    print(sample[sample['label'] == 1].shape[0] / sample.shape[0])"
   ]
  },
  {
   "cell_type": "markdown",
   "id": "f194f00f",
   "metadata": {},
   "source": [
    "Так как в модели логистической регрессии качество алгоритма было выше при векторизации текстов метрикой TF-IDF, эта метрика была также использована в дальнейшем исследовании."
   ]
  },
  {
   "cell_type": "code",
   "execution_count": 9,
   "id": "e8a2be1d",
   "metadata": {},
   "outputs": [],
   "source": [
    "#векторизация\n",
    "tfidf = TfidfVectorizer(ngram_range=(1,1))"
   ]
  },
  {
   "cell_type": "code",
   "execution_count": 10,
   "id": "128ab503",
   "metadata": {},
   "outputs": [],
   "source": [
    "tfidf_train_lemma = tfidf.fit_transform(train['text_lemmatized'])"
   ]
  },
  {
   "cell_type": "code",
   "execution_count": 11,
   "id": "be0b207b",
   "metadata": {},
   "outputs": [],
   "source": [
    "tfidf_test_lemma = tfidf.transform(test['text_lemmatized'])"
   ]
  },
  {
   "cell_type": "code",
   "execution_count": 12,
   "id": "a9a84771",
   "metadata": {},
   "outputs": [
    {
     "data": {
      "text/plain": [
       "(3292, 12705)"
      ]
     },
     "execution_count": 12,
     "metadata": {},
     "output_type": "execute_result"
    }
   ],
   "source": [
    "tfidf_train_lemma.shape"
   ]
  },
  {
   "cell_type": "code",
   "execution_count": 13,
   "id": "70e80714",
   "metadata": {},
   "outputs": [
    {
     "data": {
      "text/plain": [
       "(824, 12705)"
      ]
     },
     "execution_count": 13,
     "metadata": {},
     "output_type": "execute_result"
    }
   ],
   "source": [
    "tfidf_test_lemma.shape"
   ]
  },
  {
   "cell_type": "markdown",
   "id": "279f4106",
   "metadata": {},
   "source": [
    "В Scikit-learn представлено три модели Наивного Байеса в зависимости от распределения данных: бинарного, дискретного и непрерывного. Так как распределение признаков в собранном нами корпусе дискретное, была выбрана модель MultinomialNB."
   ]
  },
  {
   "cell_type": "code",
   "execution_count": 14,
   "id": "e7d467f7",
   "metadata": {},
   "outputs": [
    {
     "name": "stderr",
     "output_type": "stream",
     "text": [
      "C:\\Users\\js\\anaconda3\\lib\\site-packages\\sklearn\\naive_bayes.py:508: UserWarning: alpha too small will result in numeric errors, setting alpha = 1.0e-10\n",
      "  warnings.warn('alpha too small will result in numeric errors, '\n",
      "C:\\Users\\js\\anaconda3\\lib\\site-packages\\sklearn\\naive_bayes.py:508: UserWarning: alpha too small will result in numeric errors, setting alpha = 1.0e-10\n",
      "  warnings.warn('alpha too small will result in numeric errors, '\n",
      "C:\\Users\\js\\anaconda3\\lib\\site-packages\\sklearn\\naive_bayes.py:508: UserWarning: alpha too small will result in numeric errors, setting alpha = 1.0e-10\n",
      "  warnings.warn('alpha too small will result in numeric errors, '\n",
      "C:\\Users\\js\\anaconda3\\lib\\site-packages\\sklearn\\naive_bayes.py:508: UserWarning: alpha too small will result in numeric errors, setting alpha = 1.0e-10\n",
      "  warnings.warn('alpha too small will result in numeric errors, '\n",
      "C:\\Users\\js\\anaconda3\\lib\\site-packages\\sklearn\\naive_bayes.py:508: UserWarning: alpha too small will result in numeric errors, setting alpha = 1.0e-10\n",
      "  warnings.warn('alpha too small will result in numeric errors, '\n"
     ]
    }
   ],
   "source": [
    "#подбор оптимального значения параметра alpha, который отвечает за сглаживание модели \n",
    "parameter = [1, 0, 0.1, 0.01, 0.001, 0.0001]\n",
    "param_grid = {'alpha': parameter}\n",
    "grid_search = GridSearchCV(MultinomialNB(), param_grid, cv=5)\n",
    "grid_search.fit(tfidf_train_lemma, train['label'])\n",
    "Alpha, best_score = grid_search.best_params_, grid_search.best_score_"
   ]
  },
  {
   "cell_type": "code",
   "execution_count": 15,
   "id": "e26f8197",
   "metadata": {},
   "outputs": [
    {
     "data": {
      "text/plain": [
       "{'alpha': 0.1}"
      ]
     },
     "execution_count": 15,
     "metadata": {},
     "output_type": "execute_result"
    }
   ],
   "source": [
    "Alpha"
   ]
  },
  {
   "cell_type": "code",
   "execution_count": 16,
   "id": "784c02b4",
   "metadata": {},
   "outputs": [
    {
     "data": {
      "text/plain": [
       "0.9122110963004644"
      ]
     },
     "execution_count": 16,
     "metadata": {},
     "output_type": "execute_result"
    }
   ],
   "source": [
    "best_score"
   ]
  },
  {
   "cell_type": "code",
   "execution_count": 17,
   "id": "f44d04ed",
   "metadata": {},
   "outputs": [
    {
     "name": "stderr",
     "output_type": "stream",
     "text": [
      "C:\\Users\\js\\anaconda3\\lib\\site-packages\\sklearn\\utils\\validation.py:70: FutureWarning: Pass alpha=0.1 as keyword args. From version 1.0 (renaming of 0.25) passing these as positional arguments will result in an error\n",
      "  warnings.warn(f\"Pass {args_msg} as keyword args. From version \"\n"
     ]
    }
   ],
   "source": [
    "#обучение модели\n",
    "model = MultinomialNB(0.1)\n",
    "model.fit(tfidf_train_lemma, train['label'])\n",
    "predicted = model.predict(tfidf_test_lemma)\n"
   ]
  },
  {
   "cell_type": "code",
   "execution_count": 18,
   "id": "966c4ef6",
   "metadata": {},
   "outputs": [],
   "source": [
    "predictedtr =  model.predict(tfidf_train_lemma)"
   ]
  },
  {
   "cell_type": "code",
   "execution_count": 19,
   "id": "a0123038",
   "metadata": {},
   "outputs": [],
   "source": [
    "pred_train, pred_test = predictedtr, predicted"
   ]
  },
  {
   "cell_type": "code",
   "execution_count": 20,
   "id": "97ba2c18",
   "metadata": {},
   "outputs": [
    {
     "name": "stderr",
     "output_type": "stream",
     "text": [
      "<ipython-input-20-9c7250abafcf>:3: SettingWithCopyWarning: \n",
      "A value is trying to be set on a copy of a slice from a DataFrame.\n",
      "Try using .loc[row_indexer,col_indexer] = value instead\n",
      "\n",
      "See the caveats in the documentation: https://pandas.pydata.org/pandas-docs/stable/user_guide/indexing.html#returning-a-view-versus-a-copy\n",
      "  test['predictions'] = [x.round(3).tolist() for x in pred_test]\n"
     ]
    }
   ],
   "source": [
    "train.insert(0, 'predictions', [x.round(3).tolist() for x in pred_train])\n",
    "test.insert(0, 'predictions', [x.round(3).tolist() for x in pred_test])\n",
    "test['predictions'] = [x.round(3).tolist() for x in pred_test]\n"
   ]
  },
  {
   "cell_type": "code",
   "execution_count": 21,
   "id": "9323c862",
   "metadata": {},
   "outputs": [],
   "source": [
    "pred = []\n",
    "for i in test['predictions']:\n",
    "    if i==0:\n",
    "        pred.append('neg')\n",
    "    else:\n",
    "        pred.append('pos')\n",
    "tr = []\n",
    "for i in test['rated']:\n",
    "    if i == 5:\n",
    "        tr.append('pos')\n",
    "    else:\n",
    "        tr.append('neg')\n",
    "test = test.drop(['coloring', 'text_lemmatized','date','name','bank','sex'], axis=1)\n",
    "test['true'] = tr\n",
    "test['predicted'] = pred"
   ]
  },
  {
   "cell_type": "code",
   "execution_count": 22,
   "id": "75a555ee",
   "metadata": {},
   "outputs": [
    {
     "data": {
      "text/html": [
       "<div>\n",
       "<style scoped>\n",
       "    .dataframe tbody tr th:only-of-type {\n",
       "        vertical-align: middle;\n",
       "    }\n",
       "\n",
       "    .dataframe tbody tr th {\n",
       "        vertical-align: top;\n",
       "    }\n",
       "\n",
       "    .dataframe thead th {\n",
       "        text-align: right;\n",
       "    }\n",
       "</style>\n",
       "<table border=\"1\" class=\"dataframe\">\n",
       "  <thead>\n",
       "    <tr style=\"text-align: right;\">\n",
       "      <th></th>\n",
       "      <th>predictions</th>\n",
       "      <th>text</th>\n",
       "      <th>rated</th>\n",
       "      <th>label</th>\n",
       "      <th>true</th>\n",
       "      <th>predicted</th>\n",
       "    </tr>\n",
       "  </thead>\n",
       "  <tbody>\n",
       "    <tr>\n",
       "      <th>2303</th>\n",
       "      <td>1</td>\n",
       "      <td>Обратился По вопросу обслуживания карты,сотруд...</td>\n",
       "      <td>4</td>\n",
       "      <td>1</td>\n",
       "      <td>neg</td>\n",
       "      <td>pos</td>\n",
       "    </tr>\n",
       "    <tr>\n",
       "      <th>1184</th>\n",
       "      <td>0</td>\n",
       "      <td>мая была подана заявка в банк для утверждения ...</td>\n",
       "      <td>2</td>\n",
       "      <td>0</td>\n",
       "      <td>neg</td>\n",
       "      <td>neg</td>\n",
       "    </tr>\n",
       "    <tr>\n",
       "      <th>1100</th>\n",
       "      <td>0</td>\n",
       "      <td>ноября в 14. 10 села в ожидании очереди в касс...</td>\n",
       "      <td>2</td>\n",
       "      <td>0</td>\n",
       "      <td>neg</td>\n",
       "      <td>neg</td>\n",
       "    </tr>\n",
       "    <tr>\n",
       "      <th>2317</th>\n",
       "      <td>1</td>\n",
       "      <td>Хотела закрыть карту,но уговорили оставить. До...</td>\n",
       "      <td>4</td>\n",
       "      <td>1</td>\n",
       "      <td>neg</td>\n",
       "      <td>pos</td>\n",
       "    </tr>\n",
       "    <tr>\n",
       "      <th>2397</th>\n",
       "      <td>1</td>\n",
       "      <td>Оформляла продажу квартиры и нужна была банков...</td>\n",
       "      <td>4</td>\n",
       "      <td>1</td>\n",
       "      <td>neg</td>\n",
       "      <td>pos</td>\n",
       "    </tr>\n",
       "  </tbody>\n",
       "</table>\n",
       "</div>"
      ],
      "text/plain": [
       "      predictions                                               text  rated  \\\n",
       "2303            1  Обратился По вопросу обслуживания карты,сотруд...      4   \n",
       "1184            0  мая была подана заявка в банк для утверждения ...      2   \n",
       "1100            0  ноября в 14. 10 села в ожидании очереди в касс...      2   \n",
       "2317            1  Хотела закрыть карту,но уговорили оставить. До...      4   \n",
       "2397            1  Оформляла продажу квартиры и нужна была банков...      4   \n",
       "\n",
       "      label true predicted  \n",
       "2303      1  neg       pos  \n",
       "1184      0  neg       neg  \n",
       "1100      0  neg       neg  \n",
       "2317      1  neg       pos  \n",
       "2397      1  neg       pos  "
      ]
     },
     "execution_count": 22,
     "metadata": {},
     "output_type": "execute_result"
    }
   ],
   "source": [
    "test.head(5)"
   ]
  },
  {
   "cell_type": "markdown",
   "id": "3998dcdb",
   "metadata": {},
   "source": [
    "### Оценка качества работы алгоритма"
   ]
  },
  {
   "cell_type": "code",
   "execution_count": 23,
   "id": "736b9eea",
   "metadata": {},
   "outputs": [],
   "source": [
    "a = []\n",
    "b = []\n",
    "for i in test['predicted']:\n",
    "    a.append(i)\n",
    "for i in test['true']:\n",
    "    b.append(i)"
   ]
  },
  {
   "cell_type": "code",
   "execution_count": 24,
   "id": "bc2d8c39",
   "metadata": {},
   "outputs": [],
   "source": [
    "tp = 0 \n",
    "tn = 0 \n",
    "fp = 0 \n",
    "fn = 0\n",
    "t_f = []\n",
    "for i in range(0, len(a)):\n",
    "    if a[i] == b[i]:\n",
    "        if a[i] == 'pos':\n",
    "            tp+=1\n",
    "            t_f.append('tp')\n",
    "        else:\n",
    "            tn+=1\n",
    "            t_f.append('tn')\n",
    "    elif a[i] != b[i]:\n",
    "        if a[i] == 'pos':\n",
    "            fp+=1\n",
    "            t_f.append('fp')\n",
    "        else:\n",
    "            fn+=1\n",
    "            t_f.append('fn')\n",
    "        "
   ]
  },
  {
   "cell_type": "code",
   "execution_count": 25,
   "id": "776248b3",
   "metadata": {},
   "outputs": [],
   "source": [
    "test['result'] = t_f"
   ]
  },
  {
   "cell_type": "code",
   "execution_count": 26,
   "id": "fcc52f1f",
   "metadata": {},
   "outputs": [],
   "source": [
    "accuracy = (tp+tn)/len(test)\n",
    "precision = tp/ (tp+fp)\n",
    "recall = tp/(tp+fn)\n",
    "f1 = 2/(1/precision+1/recall)\n",
    "f_measure = (2*precision*recall)/(precision+recall)"
   ]
  },
  {
   "cell_type": "code",
   "execution_count": 27,
   "id": "886a8ea8",
   "metadata": {},
   "outputs": [
    {
     "name": "stdout",
     "output_type": "stream",
     "text": [
      "accuracy 0.8422330097087378\n",
      "precision 0.6638888888888889\n",
      "recall 0.9637096774193549\n",
      "f1-score 0.7861842105263157\n",
      "f-measure 0.7861842105263158\n"
     ]
    }
   ],
   "source": [
    "print('accuracy', accuracy)\n",
    "print('precision', precision)\n",
    "print('recall', recall)\n",
    "print('f1-score', f1)\n",
    "print('f-measure', f_measure)"
   ]
  },
  {
   "cell_type": "code",
   "execution_count": 28,
   "id": "672c7fe9",
   "metadata": {},
   "outputs": [],
   "source": [
    "t_res = test.query('result == \"tn\" or result == \"tp\"')\n",
    "f_res = test.query('result == \"fn\" or result == \"fp\"')\n",
    "pd.options.display.max_colwidth = 10000"
   ]
  },
  {
   "cell_type": "code",
   "execution_count": 29,
   "id": "bc627e99",
   "metadata": {},
   "outputs": [
    {
     "data": {
      "text/html": [
       "<div>\n",
       "<style scoped>\n",
       "    .dataframe tbody tr th:only-of-type {\n",
       "        vertical-align: middle;\n",
       "    }\n",
       "\n",
       "    .dataframe tbody tr th {\n",
       "        vertical-align: top;\n",
       "    }\n",
       "\n",
       "    .dataframe thead th {\n",
       "        text-align: right;\n",
       "    }\n",
       "</style>\n",
       "<table border=\"1\" class=\"dataframe\">\n",
       "  <thead>\n",
       "    <tr style=\"text-align: right;\">\n",
       "      <th></th>\n",
       "      <th>predictions</th>\n",
       "      <th>text</th>\n",
       "      <th>rated</th>\n",
       "      <th>label</th>\n",
       "      <th>true</th>\n",
       "      <th>predicted</th>\n",
       "      <th>result</th>\n",
       "    </tr>\n",
       "  </thead>\n",
       "  <tbody>\n",
       "    <tr>\n",
       "      <th>3630</th>\n",
       "      <td>0</td>\n",
       "      <td>Пополняла счёт Халвы в устройстве самообслуживания. Устройство одно не работала, сотрудник предложила воспользоваться другим или проехать в офис с кассой</td>\n",
       "      <td>5</td>\n",
       "      <td>1</td>\n",
       "      <td>pos</td>\n",
       "      <td>neg</td>\n",
       "      <td>fn</td>\n",
       "    </tr>\n",
       "    <tr>\n",
       "      <th>2868</th>\n",
       "      <td>0</td>\n",
       "      <td>Мне до 10 числа нужно было внести платеж по ипотеке и вспомнила я об этом только вечером после работы, когда мой телефон успешно разрядился. Ну благо по пути с работы есть отделение гпб, куда я и отправилась. В физических отделениях я давно не была и ожидала злых теток и очередей, но все оказалось куда цивильнее. При чем на столько, когда мою проблему услышали. Мне подсказали как я могу внести платеж через кассу и предложили как альтернативу зарядить телефон на стойке и сдлать это через приложение. Второй вариант меня пряитно шокировал - его я и выбрала. Спасибо милому администратору за помощь.</td>\n",
       "      <td>5</td>\n",
       "      <td>1</td>\n",
       "      <td>pos</td>\n",
       "      <td>neg</td>\n",
       "      <td>fn</td>\n",
       "    </tr>\n",
       "    <tr>\n",
       "      <th>2882</th>\n",
       "      <td>0</td>\n",
       "      <td>Оказывается, можно легко и спокойно застраховать карту, так точно можно не бояться нападения мошенников, можно застраховать жизнь и здоровье, спокойно можно получить доступ к программе лечения критических заболеваний у врачей России и зарубежом. Страхование детей и так далее, очень большой спектр страхования для любых целей. Балдеж. Буду страховаться и страховать то, что дорого.</td>\n",
       "      <td>5</td>\n",
       "      <td>1</td>\n",
       "      <td>pos</td>\n",
       "      <td>neg</td>\n",
       "      <td>fn</td>\n",
       "    </tr>\n",
       "    <tr>\n",
       "      <th>2867</th>\n",
       "      <td>0</td>\n",
       "      <td>История банальная и случалась со мной уже много раз - банкомат не вернул карту. Но концовка этой истории в этот раз отличалась. На новом месте работы обслуживающий банк - Газпромбанк, собственно их карта у меня и появилась. Вполне удобно, учитывая, что отделение через дорогу от работы. На обеде в кафешке огорчили новостью, что терминал не работает и я в пошла в отделение, чтобы снять деньги. Там банкомат меня и подвел. Думала, что обед отменяется, но ко мне подошла менеджер, которая увидела мою ситуацию и помогла с решением. Я оставила заявку на полноценную карту, а пока взяла моментальную на тот же счет и сняла наличные. В итоге даже успела пообедать.</td>\n",
       "      <td>5</td>\n",
       "      <td>1</td>\n",
       "      <td>pos</td>\n",
       "      <td>neg</td>\n",
       "      <td>fn</td>\n",
       "    </tr>\n",
       "    <tr>\n",
       "      <th>4104</th>\n",
       "      <td>0</td>\n",
       "      <td>Потеряла карту Халва и обратилась в банк по поводу блокировки старой карты и выправления новой. Сотрудники сразу же решили мою проблему.</td>\n",
       "      <td>5</td>\n",
       "      <td>1</td>\n",
       "      <td>pos</td>\n",
       "      <td>neg</td>\n",
       "      <td>fn</td>\n",
       "    </tr>\n",
       "    <tr>\n",
       "      <th>2833</th>\n",
       "      <td>0</td>\n",
       "      <td>Так вышло, что заявка моя оставалась незамеченной порядка двух недель, но после звонка в поддержку процесс сдвинулся с мертвой точки и дальше проблем не было. Самим кредитом и условиями я доволен + удобно, что все привозят на дом курьером.</td>\n",
       "      <td>5</td>\n",
       "      <td>1</td>\n",
       "      <td>pos</td>\n",
       "      <td>neg</td>\n",
       "      <td>fn</td>\n",
       "    </tr>\n",
       "    <tr>\n",
       "      <th>3252</th>\n",
       "      <td>0</td>\n",
       "      <td>Я являюсь муниципальным служащим. Для получения справки из банка затрат ла минут 5 личного времени. Очень хорошо все организовано, не то что в других банках, а мне есть с чем сравнить. Спасибо вам что цените чужое  время</td>\n",
       "      <td>5</td>\n",
       "      <td>1</td>\n",
       "      <td>pos</td>\n",
       "      <td>neg</td>\n",
       "      <td>fn</td>\n",
       "    </tr>\n",
       "    <tr>\n",
       "      <th>4041</th>\n",
       "      <td>0</td>\n",
       "      <td>Позвонила,указала проблему,решили,позвонили предупредили,предложили повысить кредит,в общем все понравилось.</td>\n",
       "      <td>5</td>\n",
       "      <td>1</td>\n",
       "      <td>pos</td>\n",
       "      <td>neg</td>\n",
       "      <td>fn</td>\n",
       "    </tr>\n",
       "    <tr>\n",
       "      <th>2798</th>\n",
       "      <td>0</td>\n",
       "      <td>Взял кредит наличными В Газпромбанке, думаю что ставка сейчас там не заоблачная в текущих условиях. На сайте заполнил простую анкету: ФИО, номер, почта и прочитать соглашения. Через несколько часов мне позонил специалист, извинился за о ожидание, хотя я не злился даже, и сказал, что мой кредит предварительно одобрен. Сказал, что я могу подъезжать в отделение. Я приехал на следующий день, приехал специально рано, к открытию, чтобы не стоять в очереди. Но не один я такой хитрый, человек 5-7 уже стояло, но сотрудники оперативно сработали. Менеджер ответил на вопросы и рассказал, как и когда погашать кредит. Девушка Марина была вежлива, внимательна и доходчиво все объяняла, видн, что знает свое дело. Кредит я получил, благдарю</td>\n",
       "      <td>5</td>\n",
       "      <td>1</td>\n",
       "      <td>pos</td>\n",
       "      <td>neg</td>\n",
       "      <td>fn</td>\n",
       "    </tr>\n",
       "  </tbody>\n",
       "</table>\n",
       "</div>"
      ],
      "text/plain": [
       "      predictions  \\\n",
       "3630            0   \n",
       "2868            0   \n",
       "2882            0   \n",
       "2867            0   \n",
       "4104            0   \n",
       "2833            0   \n",
       "3252            0   \n",
       "4041            0   \n",
       "2798            0   \n",
       "\n",
       "                                                                                                                                                                                                                                                                                                                                                                                                                                                                                                                                                                                                                                                                                                                                                              text  \\\n",
       "3630                                                                                                                                                                                                                                                                                                                                                                                                                                                                                                                                                                                                     Пополняла счёт Халвы в устройстве самообслуживания. Устройство одно не работала, сотрудник предложила воспользоваться другим или проехать в офис с кассой   \n",
       "2868                                                                                                                                     Мне до 10 числа нужно было внести платеж по ипотеке и вспомнила я об этом только вечером после работы, когда мой телефон успешно разрядился. Ну благо по пути с работы есть отделение гпб, куда я и отправилась. В физических отделениях я давно не была и ожидала злых теток и очередей, но все оказалось куда цивильнее. При чем на столько, когда мою проблему услышали. Мне подсказали как я могу внести платеж через кассу и предложили как альтернативу зарядить телефон на стойке и сдлать это через приложение. Второй вариант меня пряитно шокировал - его я и выбрала. Спасибо милому администратору за помощь.   \n",
       "2882                                                                                                                                                                                                                                                                                                                                                                 Оказывается, можно легко и спокойно застраховать карту, так точно можно не бояться нападения мошенников, можно застраховать жизнь и здоровье, спокойно можно получить доступ к программе лечения критических заболеваний у врачей России и зарубежом. Страхование детей и так далее, очень большой спектр страхования для любых целей. Балдеж. Буду страховаться и страховать то, что дорого.   \n",
       "2867                                                                          История банальная и случалась со мной уже много раз - банкомат не вернул карту. Но концовка этой истории в этот раз отличалась. На новом месте работы обслуживающий банк - Газпромбанк, собственно их карта у меня и появилась. Вполне удобно, учитывая, что отделение через дорогу от работы. На обеде в кафешке огорчили новостью, что терминал не работает и я в пошла в отделение, чтобы снять деньги. Там банкомат меня и подвел. Думала, что обед отменяется, но ко мне подошла менеджер, которая увидела мою ситуацию и помогла с решением. Я оставила заявку на полноценную карту, а пока взяла моментальную на тот же счет и сняла наличные. В итоге даже успела пообедать.   \n",
       "4104                                                                                                                                                                                                                                                                                                                                                                                                                                                                                                                                                                                                                      Потеряла карту Халва и обратилась в банк по поводу блокировки старой карты и выправления новой. Сотрудники сразу же решили мою проблему.   \n",
       "2833                                                                                                                                                                                                                                                                                                                                                                                                                                                                                                               Так вышло, что заявка моя оставалась незамеченной порядка двух недель, но после звонка в поддержку процесс сдвинулся с мертвой точки и дальше проблем не было. Самим кредитом и условиями я доволен + удобно, что все привозят на дом курьером.   \n",
       "3252                                                                                                                                                                                                                                                                                                                                                                                                                                                                                                                                  Я являюсь муниципальным служащим. Для получения справки из банка затрат ла минут 5 личного времени. Очень хорошо все организовано, не то что в других банках, а мне есть с чем сравнить. Спасибо вам что цените чужое  время   \n",
       "4041                                                                                                                                                                                                                                                                                                                                                                                                                                                                                                                                                                                                                                                  Позвонила,указала проблему,решили,позвонили предупредили,предложили повысить кредит,в общем все понравилось.   \n",
       "2798  Взял кредит наличными В Газпромбанке, думаю что ставка сейчас там не заоблачная в текущих условиях. На сайте заполнил простую анкету: ФИО, номер, почта и прочитать соглашения. Через несколько часов мне позонил специалист, извинился за о ожидание, хотя я не злился даже, и сказал, что мой кредит предварительно одобрен. Сказал, что я могу подъезжать в отделение. Я приехал на следующий день, приехал специально рано, к открытию, чтобы не стоять в очереди. Но не один я такой хитрый, человек 5-7 уже стояло, но сотрудники оперативно сработали. Менеджер ответил на вопросы и рассказал, как и когда погашать кредит. Девушка Марина была вежлива, внимательна и доходчиво все объяняла, видн, что знает свое дело. Кредит я получил, благдарю   \n",
       "\n",
       "      rated  label true predicted result  \n",
       "3630      5      1  pos       neg     fn  \n",
       "2868      5      1  pos       neg     fn  \n",
       "2882      5      1  pos       neg     fn  \n",
       "2867      5      1  pos       neg     fn  \n",
       "4104      5      1  pos       neg     fn  \n",
       "2833      5      1  pos       neg     fn  \n",
       "3252      5      1  pos       neg     fn  \n",
       "4041      5      1  pos       neg     fn  \n",
       "2798      5      1  pos       neg     fn  "
      ]
     },
     "execution_count": 29,
     "metadata": {},
     "output_type": "execute_result"
    }
   ],
   "source": [
    "f_res.query('result == \"fn\"')  #ложноотрицательные отзывы"
   ]
  },
  {
   "cell_type": "code",
   "execution_count": 30,
   "id": "aeaefbfb",
   "metadata": {},
   "outputs": [
    {
     "data": {
      "text/html": [
       "<div>\n",
       "<style scoped>\n",
       "    .dataframe tbody tr th:only-of-type {\n",
       "        vertical-align: middle;\n",
       "    }\n",
       "\n",
       "    .dataframe tbody tr th {\n",
       "        vertical-align: top;\n",
       "    }\n",
       "\n",
       "    .dataframe thead th {\n",
       "        text-align: right;\n",
       "    }\n",
       "</style>\n",
       "<table border=\"1\" class=\"dataframe\">\n",
       "  <thead>\n",
       "    <tr style=\"text-align: right;\">\n",
       "      <th></th>\n",
       "      <th>predictions</th>\n",
       "      <th>text</th>\n",
       "      <th>rated</th>\n",
       "      <th>label</th>\n",
       "      <th>true</th>\n",
       "      <th>predicted</th>\n",
       "      <th>result</th>\n",
       "    </tr>\n",
       "  </thead>\n",
       "  <tbody>\n",
       "    <tr>\n",
       "      <th>2303</th>\n",
       "      <td>1</td>\n",
       "      <td>Обратился По вопросу обслуживания карты,сотрудник бала вежлива,внимательна,все квалифицировано объяснила.</td>\n",
       "      <td>4</td>\n",
       "      <td>1</td>\n",
       "      <td>neg</td>\n",
       "      <td>pos</td>\n",
       "      <td>fp</td>\n",
       "    </tr>\n",
       "    <tr>\n",
       "      <th>2317</th>\n",
       "      <td>1</td>\n",
       "      <td>Хотела закрыть карту,но уговорили оставить. До сих пор пользуюсь, пользуюсь уже где-то 4 года, нравится получать кешбек</td>\n",
       "      <td>4</td>\n",
       "      <td>1</td>\n",
       "      <td>neg</td>\n",
       "      <td>pos</td>\n",
       "      <td>fp</td>\n",
       "    </tr>\n",
       "    <tr>\n",
       "      <th>2397</th>\n",
       "      <td>1</td>\n",
       "      <td>Оформляла продажу квартиры и нужна была банковская ячейка для передачи денег. На Обводном ближайшим был Энергомашбанк. Сотрудницы банка Марина и Елена, если не ошибаюсь, очень быстро провели сделку, остались довольны и мы и продавцы квартиры. Сроки поджимали, а для нас было важно быстрое оформление документов. Все сделали оперативно, легко и вежливо. Хотя покупатели наши немного нервничали. Но все прошло отлично. Спасибо все, пошли отмечать=)</td>\n",
       "      <td>4</td>\n",
       "      <td>1</td>\n",
       "      <td>neg</td>\n",
       "      <td>pos</td>\n",
       "      <td>fp</td>\n",
       "    </tr>\n",
       "    <tr>\n",
       "      <th>2727</th>\n",
       "      <td>1</td>\n",
       "      <td>Без обмана и купюры как новые,чистенькие,не стыдно расплачиваться ими,кассиры приятные на внешность,одеты в рубашечки,бейджики,как в сбербанке прям)))Вообщем по сравнению с конторами которые обманывают на Арбате,постоянно кидая,эта операционка чистая,сайт конечно бы получше им сделать,а так желаю только дальнейшего развития и поменьше инциндентов.</td>\n",
       "      <td>4</td>\n",
       "      <td>1</td>\n",
       "      <td>neg</td>\n",
       "      <td>pos</td>\n",
       "      <td>fp</td>\n",
       "    </tr>\n",
       "    <tr>\n",
       "      <th>2256</th>\n",
       "      <td>1</td>\n",
       "      <td>Неоднократно обращалась за консультация и к сотрудникам офиса Банка, расположенного по ул. Ленина в г. Рузаевка я Республика Мордовия. Сотрудники всегда приветливые, внимательные, стараются оперативно разобраться в сути вопроса и подсказывают возможные варианты положительного решения.</td>\n",
       "      <td>4</td>\n",
       "      <td>1</td>\n",
       "      <td>neg</td>\n",
       "      <td>pos</td>\n",
       "      <td>fp</td>\n",
       "    </tr>\n",
       "    <tr>\n",
       "      <th>...</th>\n",
       "      <td>...</td>\n",
       "      <td>...</td>\n",
       "      <td>...</td>\n",
       "      <td>...</td>\n",
       "      <td>...</td>\n",
       "      <td>...</td>\n",
       "      <td>...</td>\n",
       "    </tr>\n",
       "    <tr>\n",
       "      <th>353</th>\n",
       "      <td>1</td>\n",
       "      <td>Грамотного и провесианалов один сотрудник на банк. Был в двух офисах в городе. Одно и тоже очередь, долгое ожидание. В обоих банках сотрудники консультируються у одной. Которая ( впечетление такое) и осущевсляет всю работу банка.</td>\n",
       "      <td>1</td>\n",
       "      <td>0</td>\n",
       "      <td>neg</td>\n",
       "      <td>pos</td>\n",
       "      <td>fp</td>\n",
       "    </tr>\n",
       "    <tr>\n",
       "      <th>1625</th>\n",
       "      <td>1</td>\n",
       "      <td>Здравствуйте. Оформлял карту халва по акции приведи друга, мне одобрили только дебетовую карту. Далее в банке на мой вопрос про вклад, сотрудник сказала о, у нас сейчас если кладёте на вклад от 100.000₽ вам одобрят кредитный лимит. Я пошёл в банк где у меня лежал вклад, снял все, положил к вам на вклад. По новой оформил заявку по акции приведи друга и что? Мне опять одобрили только дебетовую карту. Вопрос, зачем я бегал снимал вклад с одного банка, ложил в другой, если ничего не изменилось? Что тяжело было одобрить даже какой-нибудь минимальный лимит в размере 5000₽ (и это при вкладке больше полумиллиона) , чтобы я и мой друг смогли воспользоваться, акцией?</td>\n",
       "      <td>3</td>\n",
       "      <td>0</td>\n",
       "      <td>neg</td>\n",
       "      <td>pos</td>\n",
       "      <td>fp</td>\n",
       "    </tr>\n",
       "    <tr>\n",
       "      <th>2176</th>\n",
       "      <td>1</td>\n",
       "      <td>Много хороших моментов, так же и плохих. Порог кеш бека все портит, совершали бы много покупок по вашей карте, но увы. Порог кеш бэка</td>\n",
       "      <td>4</td>\n",
       "      <td>1</td>\n",
       "      <td>neg</td>\n",
       "      <td>pos</td>\n",
       "      <td>fp</td>\n",
       "    </tr>\n",
       "    <tr>\n",
       "      <th>2655</th>\n",
       "      <td>1</td>\n",
       "      <td>Итак, плюсы. Очень быстро оформили карту. Никаких проблем при этом не возникло, но у меня до этого был всего один небольшой потребительский кредит, который погашен досрочно, поэтому ничего удивительного в этом нет. Картой пользовалась (и пользуюсь) очень активно, большей частью при совершении покупок через интернет. Очень удобное приложение для интернет-банкинга на Android, правда, старое было намного лучше. Очень порадовало, что даже в другом городе мне в офисе сменили привязанный номер телефона и приняли годовые взносы, не заставив ехать за 350 километров :) Ну и напоследок несколько минусов. Как-то мне позвонила милая девочка и предложила увеличить кредитный лимит. На мой вопрос \"что от меня для этого нужно\" начала уточнять личные данные и сказала подойти в офис... где уже не такая вежливая сотрудница начала ещё раз задавать те же самые вопросы (зачем тогда меня держали на телефоне 40 минут?), а потом потребовала справку с работы о доходах. на резонное возмущение, что я бы вообще тогда не затевала это, если бы мне рассказали все требования по телефону, мне резко ответили \"по телефону мы только предлагаем услуги, а решение принимаю Я\". Когда эпопея с увеличением кредитного лимита растянулась ещё сильнее (после того, как я принесла требуемую справку, девушка ушла в отпуск), я просто махнула рукой, так как изначально экстренной необходимости в этом вообще не было. Но осадок остался: неужели нельзя или сделать данную процедуру проще (по крайней мере для клиентов, которые уже несколько лет пользуются услугами данного банка и к которым не было никаких претензий), или хотя бы изначально сообщать все требования к данной процедуре, чтобы не заставлять впустую тратить время. И ещё один минус (вернее, непонятка). Одновременно с картой заводится дебетовый счет, который я активно использовала для перевода на него денег (так как перевод из другого банка на счёт дешевле, чем на карту), чтобы погашать кредит на карте, а также чтобы кидать деньги через мобильный банк на webmoney (так как с карты данная операция недоступна). И в последнее время сразу после поступления денег на счёт они автоматически переводились на погашение кредита на карте, без моего участия (это происходило в начале месяца и экстренной необходимости погашать кредит именно в этот период не было). Никаких информирований, почему так начало происходить, я не получала. В принципе, лично для меня это не страшно, даже наоборот, экономит время, но сама операция несколько странная. В заключение хотелось бы сказать, что, несмотря на все минусы, я довольна, что выбрала именно этот банк. Уже на себе столкнулась с тем, как другие банки самостоятельно подключают платные услуги и решают вопросы по несколько месяцев, поэтому надеюсь и в дальнейшем оставаться клиентом этого банка.</td>\n",
       "      <td>4</td>\n",
       "      <td>1</td>\n",
       "      <td>neg</td>\n",
       "      <td>pos</td>\n",
       "      <td>fp</td>\n",
       "    </tr>\n",
       "    <tr>\n",
       "      <th>1081</th>\n",
       "      <td>1</td>\n",
       "      <td>Кредитка 120 дней будьте внимательны по условиям!!! Первый расчётный период начинается не с первой покупки, а с 1 числа месяца, в котором была произведена первая покупка. Сотрудники банка в Ростове-на-Дону на 339 Стрелковой Дивизии этого не знают , вплоть до их управляющего.  Я обращалась к двум сотрудникам этого отделения по разъяснению, они мне утверждали обратное. После они подходили к старшему менеджеру и управляющему. Они не в курсе условий договора, который сами же и подписали. Это просто возмутительно. Значит они не пользуются своими же продуктами!!!  Не рекомендую сотрудничать с этим банком. В продолжение всё так запутано, что по- любому попадёте на %.</td>\n",
       "      <td>2</td>\n",
       "      <td>0</td>\n",
       "      <td>neg</td>\n",
       "      <td>pos</td>\n",
       "      <td>fp</td>\n",
       "    </tr>\n",
       "  </tbody>\n",
       "</table>\n",
       "<p>121 rows × 7 columns</p>\n",
       "</div>"
      ],
      "text/plain": [
       "      predictions  \\\n",
       "2303            1   \n",
       "2317            1   \n",
       "2397            1   \n",
       "2727            1   \n",
       "2256            1   \n",
       "...           ...   \n",
       "353             1   \n",
       "1625            1   \n",
       "2176            1   \n",
       "2655            1   \n",
       "1081            1   \n",
       "\n",
       "                                                                                                                                                                                                                                                                                                                                                                                                                                                                                                                                                                                                                                                                                                                                                                                                                                                                                                                                                                                                                                                                                                                                                                                                                                                                                                                                                                                                                                                                                                                                                                                                                                                                                                                                                                                                                                                                                                                                                                                                                                                                                                                                                                                                                                                                                                                                                                                                                                                                                                                                                                                                                                                                                                                                                                                                                                                                                  text  \\\n",
       "2303                                                                                                                                                                                                                                                                                                                                                                                                                                                                                                                                                                                                                                                                                                                                                                                                                                                                                                                                                                                                                                                                                                                                                                                                                                                                                                                                                                                                                                                                                                                                                                                                                                                                                                                                                                                                                                                                                                                                                                                                                                                                                                                                                                                                                                                                                                                                                                                                                                                                                                                                                                                                                                                                                                                                                                         Обратился По вопросу обслуживания карты,сотрудник бала вежлива,внимательна,все квалифицировано объяснила.   \n",
       "2317                                                                                                                                                                                                                                                                                                                                                                                                                                                                                                                                                                                                                                                                                                                                                                                                                                                                                                                                                                                                                                                                                                                                                                                                                                                                                                                                                                                                                                                                                                                                                                                                                                                                                                                                                                                                                                                                                                                                                                                                                                                                                                                                                                                                                                                                                                                                                                                                                                                                                                                                                                                                                                                                                                                                                           Хотела закрыть карту,но уговорили оставить. До сих пор пользуюсь, пользуюсь уже где-то 4 года, нравится получать кешбек   \n",
       "2397                                                                                                                                                                                                                                                                                                                                                                                                                                                                                                                                                                                                                                                                                                                                                                                                                                                                                                                                                                                                                                                                                                                                                                                                                                                                                                                                                                                                                                                                                                                                                                                                                                                                                                                                                                                                                                                                                                                                                                                                                                                                                                                                                                                                                                                                                                                                                                                                                    Оформляла продажу квартиры и нужна была банковская ячейка для передачи денег. На Обводном ближайшим был Энергомашбанк. Сотрудницы банка Марина и Елена, если не ошибаюсь, очень быстро провели сделку, остались довольны и мы и продавцы квартиры. Сроки поджимали, а для нас было важно быстрое оформление документов. Все сделали оперативно, легко и вежливо. Хотя покупатели наши немного нервничали. Но все прошло отлично. Спасибо все, пошли отмечать=)   \n",
       "2727                                                                                                                                                                                                                                                                                                                                                                                                                                                                                                                                                                                                                                                                                                                                                                                                                                                                                                                                                                                                                                                                                                                                                                                                                                                                                                                                                                                                                                                                                                                                                                                                                                                                                                                                                                                                                                                                                                                                                                                                                                                                                                                                                                                                                                                                                                                                                                                                                                                                                                                     Без обмана и купюры как новые,чистенькие,не стыдно расплачиваться ими,кассиры приятные на внешность,одеты в рубашечки,бейджики,как в сбербанке прям)))Вообщем по сравнению с конторами которые обманывают на Арбате,постоянно кидая,эта операционка чистая,сайт конечно бы получше им сделать,а так желаю только дальнейшего развития и поменьше инциндентов.   \n",
       "2256                                                                                                                                                                                                                                                                                                                                                                                                                                                                                                                                                                                                                                                                                                                                                                                                                                                                                                                                                                                                                                                                                                                                                                                                                                                                                                                                                                                                                                                                                                                                                                                                                                                                                                                                                                                                                                                                                                                                                                                                                                                                                                                                                                                                                                                                                                                                                                                                                                                                                                                                                                                     Неоднократно обращалась за консультация и к сотрудникам офиса Банка, расположенного по ул. Ленина в г. Рузаевка я Республика Мордовия. Сотрудники всегда приветливые, внимательные, стараются оперативно разобраться в сути вопроса и подсказывают возможные варианты положительного решения.   \n",
       "...                                                                                                                                                                                                                                                                                                                                                                                                                                                                                                                                                                                                                                                                                                                                                                                                                                                                                                                                                                                                                                                                                                                                                                                                                                                                                                                                                                                                                                                                                                                                                                                                                                                                                                                                                                                                                                                                                                                                                                                                                                                                                                                                                                                                                                                                                                                                                                                                                                                                                                                                                                                                                                                                                                                                                                                                                                                                                ...   \n",
       "353                                                                                                                                                                                                                                                                                                                                                                                                                                                                                                                                                                                                                                                                                                                                                                                                                                                                                                                                                                                                                                                                                                                                                                                                                                                                                                                                                                                                                                                                                                                                                                                                                                                                                                                                                                                                                                                                                                                                                                                                                                                                                                                                                                                                                                                                                                                                                                                                                                                                                                                                                                                                                                              Грамотного и провесианалов один сотрудник на банк. Был в двух офисах в городе. Одно и тоже очередь, долгое ожидание. В обоих банках сотрудники консультируються у одной. Которая ( впечетление такое) и осущевсляет всю работу банка.   \n",
       "1625                                                                                                                                                                                                                                                                                                                                                                                                                                                                                                                                                                                                                                                                                                                                                                                                                                                                                                                                                                                                                                                                                                                                                                                                                                                                                                                                                                                                                                                                                                                                                                                                                                                                                                                                                                                                                                                                                                                                                                                                                                                                                                                                                                                         Здравствуйте. Оформлял карту халва по акции приведи друга, мне одобрили только дебетовую карту. Далее в банке на мой вопрос про вклад, сотрудник сказала о, у нас сейчас если кладёте на вклад от 100.000₽ вам одобрят кредитный лимит. Я пошёл в банк где у меня лежал вклад, снял все, положил к вам на вклад. По новой оформил заявку по акции приведи друга и что? Мне опять одобрили только дебетовую карту. Вопрос, зачем я бегал снимал вклад с одного банка, ложил в другой, если ничего не изменилось? Что тяжело было одобрить даже какой-нибудь минимальный лимит в размере 5000₽ (и это при вкладке больше полумиллиона) , чтобы я и мой друг смогли воспользоваться, акцией?   \n",
       "2176                                                                                                                                                                                                                                                                                                                                                                                                                                                                                                                                                                                                                                                                                                                                                                                                                                                                                                                                                                                                                                                                                                                                                                                                                                                                                                                                                                                                                                                                                                                                                                                                                                                                                                                                                                                                                                                                                                                                                                                                                                                                                                                                                                                                                                                                                                                                                                                                                                                                                                                                                                                                                                                                                                                                             Много хороших моментов, так же и плохих. Порог кеш бека все портит, совершали бы много покупок по вашей карте, но увы. Порог кеш бэка   \n",
       "2655  Итак, плюсы. Очень быстро оформили карту. Никаких проблем при этом не возникло, но у меня до этого был всего один небольшой потребительский кредит, который погашен досрочно, поэтому ничего удивительного в этом нет. Картой пользовалась (и пользуюсь) очень активно, большей частью при совершении покупок через интернет. Очень удобное приложение для интернет-банкинга на Android, правда, старое было намного лучше. Очень порадовало, что даже в другом городе мне в офисе сменили привязанный номер телефона и приняли годовые взносы, не заставив ехать за 350 километров :) Ну и напоследок несколько минусов. Как-то мне позвонила милая девочка и предложила увеличить кредитный лимит. На мой вопрос \"что от меня для этого нужно\" начала уточнять личные данные и сказала подойти в офис... где уже не такая вежливая сотрудница начала ещё раз задавать те же самые вопросы (зачем тогда меня держали на телефоне 40 минут?), а потом потребовала справку с работы о доходах. на резонное возмущение, что я бы вообще тогда не затевала это, если бы мне рассказали все требования по телефону, мне резко ответили \"по телефону мы только предлагаем услуги, а решение принимаю Я\". Когда эпопея с увеличением кредитного лимита растянулась ещё сильнее (после того, как я принесла требуемую справку, девушка ушла в отпуск), я просто махнула рукой, так как изначально экстренной необходимости в этом вообще не было. Но осадок остался: неужели нельзя или сделать данную процедуру проще (по крайней мере для клиентов, которые уже несколько лет пользуются услугами данного банка и к которым не было никаких претензий), или хотя бы изначально сообщать все требования к данной процедуре, чтобы не заставлять впустую тратить время. И ещё один минус (вернее, непонятка). Одновременно с картой заводится дебетовый счет, который я активно использовала для перевода на него денег (так как перевод из другого банка на счёт дешевле, чем на карту), чтобы погашать кредит на карте, а также чтобы кидать деньги через мобильный банк на webmoney (так как с карты данная операция недоступна). И в последнее время сразу после поступления денег на счёт они автоматически переводились на погашение кредита на карте, без моего участия (это происходило в начале месяца и экстренной необходимости погашать кредит именно в этот период не было). Никаких информирований, почему так начало происходить, я не получала. В принципе, лично для меня это не страшно, даже наоборот, экономит время, но сама операция несколько странная. В заключение хотелось бы сказать, что, несмотря на все минусы, я довольна, что выбрала именно этот банк. Уже на себе столкнулась с тем, как другие банки самостоятельно подключают платные услуги и решают вопросы по несколько месяцев, поэтому надеюсь и в дальнейшем оставаться клиентом этого банка.   \n",
       "1081                                                                                                                                                                                                                                                                                                                                                                                                                                                                                                                                                                                                                                                                                                                                                                                                                                                                                                                                                                                                                                                                                                                                                                                                                                                                                                                                                                                                                                                                                                                                                                                                                                                                                                                                                                                                                                                                                                                                                                                                                                                                                                                                                                                      Кредитка 120 дней будьте внимательны по условиям!!! Первый расчётный период начинается не с первой покупки, а с 1 числа месяца, в котором была произведена первая покупка. Сотрудники банка в Ростове-на-Дону на 339 Стрелковой Дивизии этого не знают , вплоть до их управляющего.  Я обращалась к двум сотрудникам этого отделения по разъяснению, они мне утверждали обратное. После они подходили к старшему менеджеру и управляющему. Они не в курсе условий договора, который сами же и подписали. Это просто возмутительно. Значит они не пользуются своими же продуктами!!!  Не рекомендую сотрудничать с этим банком. В продолжение всё так запутано, что по- любому попадёте на %.   \n",
       "\n",
       "      rated  label true predicted result  \n",
       "2303      4      1  neg       pos     fp  \n",
       "2317      4      1  neg       pos     fp  \n",
       "2397      4      1  neg       pos     fp  \n",
       "2727      4      1  neg       pos     fp  \n",
       "2256      4      1  neg       pos     fp  \n",
       "...     ...    ...  ...       ...    ...  \n",
       "353       1      0  neg       pos     fp  \n",
       "1625      3      0  neg       pos     fp  \n",
       "2176      4      1  neg       pos     fp  \n",
       "2655      4      1  neg       pos     fp  \n",
       "1081      2      0  neg       pos     fp  \n",
       "\n",
       "[121 rows x 7 columns]"
      ]
     },
     "execution_count": 30,
     "metadata": {},
     "output_type": "execute_result"
    }
   ],
   "source": [
    "f_res.query('result == \"fp\"') #ложноположительные отзывы"
   ]
  },
  {
   "cell_type": "markdown",
   "id": "ad814a53",
   "metadata": {},
   "source": [
    "### Общие выводы"
   ]
  },
  {
   "cell_type": "markdown",
   "id": "5a98fa8c",
   "metadata": {},
   "source": [
    "Видим, что точность у Байесовского классификатора больше, чем у модели логистической регрессии. Полнота немного меньше, это означает, что среди ложно предсказанных результатов чаще встречаются ложно негативные. Проанализировав отзывы, определенные как ложно негативные, мы обнаружили, что большинство из них имеет оценку ‘4’, при этом сами комментарии, действительно, скорее негативные и модель хорошо справляется с задачей."
   ]
  }
 ],
 "metadata": {
  "kernelspec": {
   "display_name": "Python 3",
   "language": "python",
   "name": "python3"
  },
  "language_info": {
   "codemirror_mode": {
    "name": "ipython",
    "version": 3
   },
   "file_extension": ".py",
   "mimetype": "text/x-python",
   "name": "python",
   "nbconvert_exporter": "python",
   "pygments_lexer": "ipython3",
   "version": "3.8.8"
  }
 },
 "nbformat": 4,
 "nbformat_minor": 5
}
