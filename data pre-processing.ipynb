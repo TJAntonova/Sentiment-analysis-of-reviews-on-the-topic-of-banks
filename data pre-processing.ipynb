{
 "cells": [
  {
   "cell_type": "code",
   "execution_count": 1,
   "id": "c7f308fb",
   "metadata": {},
   "outputs": [],
   "source": [
    "import pandas as pd\n",
    "from pymorphy2 import MorphAnalyzer\n",
    "from nltk.tokenize import sent_tokenize, word_tokenize\n",
    "import nltk\n",
    "from nltk.corpus import stopwords as nltk_stopwords\n",
    "import re"
   ]
  },
  {
   "cell_type": "code",
   "execution_count": 2,
   "id": "906b8e75",
   "metadata": {},
   "outputs": [],
   "source": [
    "server_path = '' \n",
    "local_path= '/Users/js/test_corpus1.csv'               \n",
    "\n",
    "try:\n",
    "    df = pd.read_csv(server_path)   \n",
    "except: \n",
    "    df = pd.read_csv(local_path)   \n",
    "\n",
    "df = df[df['text'].notnull()]\n",
    "df = df.drop(['Unnamed: 0'], axis = 1)"
   ]
  },
  {
   "cell_type": "code",
   "execution_count": 4,
   "id": "478c976a",
   "metadata": {},
   "outputs": [],
   "source": [
    "stopwords = set(nltk_stopwords.words('russian'))"
   ]
  },
  {
   "cell_type": "code",
   "execution_count": 8,
   "id": "1511d5b8",
   "metadata": {},
   "outputs": [],
   "source": [
    "morph = MorphAnalyzer(lang='ru')\n",
    "\n",
    "## токенизация\n",
    "corp = []\n",
    "for i in df['text']:\n",
    "    i = sent_tokenize(i,language=\"russian\")\n",
    "    corp.append(i)\n",
    "lemmas = []\n",
    "for text in corp:\n",
    "    text_finished = ''\n",
    "    for sent in text:\n",
    "        sentence_tokenized = word_tokenize(sent,language=\"russian\")\n",
    "        sentence_finished = \"\"\n",
    "        for word in sentence_tokenized:\n",
    "            if word in stopwords:\n",
    "                continue\n",
    "## лемматизация\n",
    "            word_lemm = morph.parse(word)[0].normal_form\n",
    "            sentence_finished += word_lemm + \" \"\n",
    "        \n",
    "            sentence_finished = re.sub(r'[^А-яЁё]+', ' ', sentence_finished).lower()\n",
    "        text_finished+=sentence_finished + ' '\n",
    "\n",
    "    lemmas.append(text_finished)"
   ]
  },
  {
   "cell_type": "code",
   "execution_count": 10,
   "id": "914975e2",
   "metadata": {},
   "outputs": [],
   "source": [
    "df['text_lemmatized'] = lemmas"
   ]
  },
  {
   "cell_type": "code",
   "execution_count": 11,
   "id": "e779bada",
   "metadata": {},
   "outputs": [],
   "source": [
    "df.to_csv('corp_lemm.csv') "
   ]
  }
 ],
 "metadata": {
  "kernelspec": {
   "display_name": "Python 3",
   "language": "python",
   "name": "python3"
  },
  "language_info": {
   "codemirror_mode": {
    "name": "ipython",
    "version": 3
   },
   "file_extension": ".py",
   "mimetype": "text/x-python",
   "name": "python",
   "nbconvert_exporter": "python",
   "pygments_lexer": "ipython3",
   "version": "3.8.8"
  }
 },
 "nbformat": 4,
 "nbformat_minor": 5
}
